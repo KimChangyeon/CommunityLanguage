{
 "cells": [
  {
   "cell_type": "code",
   "execution_count": null,
   "metadata": {
    "ExecuteTime": {
     "end_time": "2020-04-28T06:44:48.747851Z",
     "start_time": "2020-04-28T06:44:48.628682Z"
    }
   },
   "outputs": [],
   "source": [
    "import urllib\n",
    "import requests\n",
    "from bs4 import BeautifulSoup\n",
    "import os\n",
    "import random\n",
    "import urllib\n",
    "from tqdm.notebook import tqdm\n",
    "from collections import defaultdict\n",
    "from timeout import timeout"
   ]
  },
  {
   "cell_type": "code",
   "execution_count": null,
   "metadata": {
    "ExecuteTime": {
     "end_time": "2020-04-28T06:44:49.177019Z",
     "start_time": "2020-04-28T06:44:49.172295Z"
    }
   },
   "outputs": [],
   "source": [
    "@timeout(5)\n",
    "def find_list (id, articles, page_num):\n",
    "    headers = {'User-Agent' : 'Mozilla/5.0 (Macintosh; Intel Mac OS X 10_15_4) AppleWebKit/537.36 (KHTML, like Gecko) Chrome/80.0.3987.163 Safari/537.36'}\n",
    "    params = {'id': id, 'exception_mode' :'recommend', 'page' : page_num}\n",
    "    BASE_URL = \"https://gall.dcinside.com/board/lists\"\n",
    "    resp = requests.get(BASE_URL, params=params, headers=headers)\n",
    "    soup = BeautifulSoup(resp.content, 'html.parser')\n",
    "    articles.extend(soup.select(\n",
    "        'table > tbody > tr > td.gall_tit.ub-word > a'\n",
    "    ))\n",
    "    return articles"
   ]
  },
  {
   "cell_type": "code",
   "execution_count": null,
   "metadata": {
    "ExecuteTime": {
     "end_time": "2020-04-28T06:45:17.237711Z",
     "start_time": "2020-04-28T06:45:17.157922Z"
    }
   },
   "outputs": [],
   "source": [
    "from requests.adapters import HTTPAdapter\n",
    "import lxml.html\n",
    "\n",
    "GET_HEADERS = {\n",
    "    \"User-Agent\": \"Mozilla/5.0 (Linux; Android 6.0; Nexus 5 Build/MRA58N) AppleWebKit/537.36 (KHTML, like Gecko) Chrome/65.0.3325.181 Mobile Safari/537.36\",\n",
    "     }\n",
    "\n",
    "def gen_session():\n",
    "    sess = requests.Session()\n",
    "    sess.mount(\"https://\", HTTPAdapter(max_retries=100))\n",
    "    sess.headers.update(GET_HEADERS)\n",
    "    sess.head(\"https://m.dcinside.com\")\n",
    "    return sess\n",
    "DEFAULT_SESS = gen_session()\n",
    "\n",
    "XML_HTTP_REQ_HEADERS = {\n",
    "    \"Accept\": \"*/*\",\n",
    "    \"Connection\": \"keep-alive\",\n",
    "    \"User-Agent\": \"Mozilla/5.0 (Linux; Android 6.0; Nexus 5 Build/MRA58N) AppleWebKit/537.36 (KHTML, like Gecko) Chrome/65.0.3325.181 Mobile Safari/537.36\",\n",
    "    \"X-Requested-With\": \"XMLHttpRequest\",\n",
    "    \"Accept-Encoding\": \"gzip, deflate\",\n",
    "    \"Accept-Language\": \"en-US,en;q=0.9,ko;q=0.8\",\n",
    "    \"Cache-Control\": \"no-cache\",\n",
    "    \"Pragma\": \"no-cache\",\n",
    "    \"X-Requested-With\": \"XMLHttpRequest\",\n",
    "    }\n",
    "POST_HEADERS = {\n",
    "    \"Accept\": \"text/html,application/xhtml+xml,application/xml;q=0.9,image/webp,image/apng,*/*;q=0.8\",\n",
    "    \"Accept-Encoding\": \"gzip, deflate, br\",\n",
    "    \"Accept-Language\": \"en-US,en;q=0.9,ko;q=0.8\",\n",
    "    \"Cache-Control\": \"no-cache\",\n",
    "    \"Connection\": \"keep-alive\",\n",
    "    \"Content-Type\": \"application/x-www-form-urlencoded\",\n",
    "    \"Pragma\": \"no-cache\",\n",
    "    \"Upgrade-Insecure-Requests\": \"1\",\n",
    "    \"User-Agent\": \"Mozilla/5.0 (Linux; Android 6.0; Nexus 5 Build/MRA58N) AppleWebKit/537.36 (KHTML, like Gecko) Chrome/65.0.3325.181 Mobile Safari/537.36\",\n",
    "    }\n",
    "\n",
    "TIMEOUT = 3\n",
    "\n",
    "def comments(board_id, doc_id, sess=DEFAULT_SESS, start_page=1):\n",
    "    answer = []\n",
    "    url = \"https://m.dcinside.com/ajax/response-comment\"\n",
    "    for page in range(start_page, 999999):\n",
    "        payload = {\"id\": board_id, \"no\": doc_id, \"cpage\": page, \"managerskill\":\"\", \"del_scope\": \"1\", \"csort\": \"\"}\n",
    "        res = sess.post(url, headers=XML_HTTP_REQ_HEADERS, data=payload, timeout=TIMEOUT)\n",
    "        parsed = lxml.html.fromstring(res.text)\n",
    "        if not len(parsed):\n",
    "            break\n",
    "        if not len(parsed[1].xpath(\"li\")): break\n",
    "        #for li in reversed(parsed[1].xpath(\"li\")):\n",
    "        for li in parsed[1].xpath(\"li\"):\n",
    "            if not len(li[0]): continue\n",
    "#             answer.append({\n",
    "#                 \"id\": li.get(\"no\"),\n",
    "#                 \"parent_id\": li.get(\"m_no\"),\n",
    "#                 \"author\": li[0].text + (\"{}\".format(li[0][0].text) if li[0][0].text else \"\"),\n",
    "#                 \"author_id\": li[0][1].text if len(li[0]) > 1 else None,\n",
    "#                 \"contents\": '\\n'.join(i.strip() for i in li[1].itertext()),\n",
    "#                 \"dccon\": li[1][0].get(\"data-original\", li[1][0].get(\"src\", None)) if len(li[1]) and li[1][0].tag==\"img\" else None,\n",
    "#                 \"voice\": li[1][0].get(\"src\", None) if len(li[1]) and li[1][0].tag==\"iframe\" else None,\n",
    "#                 \"time\": li[2].text, })\n",
    "            answer.append('\\n'.join(i.strip() for i in li[1].itertext()))\n",
    "    return answer"
   ]
  },
  {
   "cell_type": "code",
   "execution_count": null,
   "metadata": {
    "ExecuteTime": {
     "end_time": "2020-04-28T06:45:18.219382Z",
     "start_time": "2020-04-28T06:45:18.212942Z"
    }
   },
   "outputs": [],
   "source": [
    "@timeout(3)\n",
    "def extract_article (id, result, info):\n",
    "    article = info['href']\n",
    "    params = {}\n",
    "    parameters = article.split('?')[1].split('&')\n",
    "    for param in parameters:\n",
    "        key, value = param.split('=')\n",
    "        params[key] = value\n",
    "    # params = {'id': 'leagueoflegends3', 'exception_mode' :'recommend', 'no': 6396850, 'page' : 1}\n",
    "    headers = {'User-Agent' : 'Mozilla/5.0 (Macintosh; Intel Mac OS X 10_15_4) AppleWebKit/537.36 (KHTML, like Gecko) Chrome/80.0.3987.163 Safari/537.36'}\n",
    "    BASE_URL = \"https://gall.dcinside.com/board/view/\"\n",
    "    resp = requests.get(BASE_URL, params=params, headers=headers)\n",
    "    soup = BeautifulSoup(resp.content, 'html.parser')\n",
    "    result.add(soup.select('meta:nth-of-type(8)')[0]['content'].split('-')[0])\n",
    "    result.add(soup.select('meta:nth-of-type(9)')[0]['content'])\n",
    "    result |= set(comments(id, params['no']))\n",
    "    return result"
   ]
  },
  {
   "cell_type": "code",
   "execution_count": null,
   "metadata": {
    "ExecuteTime": {
     "end_time": "2020-04-28T11:22:00.397167Z",
     "start_time": "2020-04-28T06:48:31.225384Z"
    }
   },
   "outputs": [],
   "source": [
    "def crawl_dcinside(id: str):\n",
    "    articles = []\n",
    "    for i in tqdm(range(100)):\n",
    "        articles = find_list(id, articles, i)\n",
    "    \n",
    "    result = set([])\n",
    "    for i in range(10):\n",
    "        for info in tqdm(articles[1000 * i : 1000 * (i+1)]):\n",
    "            try:\n",
    "                result = extract_article(id, result, info)\n",
    "            except:\n",
    "                continue\n",
    "            \n",
    "        with open('./data/data_dc_' + id + '_' + str(i) + '.txt', 'w') as f:\n",
    "            for sent in result:\n",
    "                f.write(sent + '\\n')"
   ]
  },
  {
   "cell_type": "code",
   "execution_count": null,
   "metadata": {},
   "outputs": [],
   "source": [
    "def crawl_nate():\n",
    "    url = \"https://pann.nate.com\"\n",
    "    talk_url = \"https://pann.nate.com/talk\"\n",
    "    resp = requests.get(talk_url)\n",
    "    html = BeautifulSoup(resp.content, 'html.parser')\n",
    "    f = open('./data/data_nate.txt', 'w',  encoding='utf-8')\n",
    "    \n",
    "    s_talk = html.find('ul', {'id':  'categoryArea', 'class': 'odd'})\n",
    "    categories = s_talk.findAll('a')\n",
    "    \n",
    "    for category in categories:\n",
    "        f.write(\"category: {}\\n\".format(category.getText()))\n",
    "        href = category['href']\n",
    "        url_category = url + href\n",
    "        cat_resp = requests.get(url_category)\n",
    "        cat_html = BeautifulSoup(cat_resp.content, 'html.parser')\n",
    "\n",
    "        post_list = cat_html.find('ul', {'class': 'post_list'})\n",
    "        if(post_list):\n",
    "            post_lists = post_list.findAll('a')\n",
    "        \n",
    "            for p in post_lists:\n",
    "                href = p['href']\n",
    "                if(href[6].isalpha()):\n",
    "                    continue\n",
    "                resp = requests.get(url+p['href'])\n",
    "                html = BeautifulSoup(resp.content, 'html.parser')\n",
    "                post = html.find('div', {'class': 'posting'})\n",
    "                posts = post.find('div', {'id': 'contentArea'})\n",
    "                txt = posts.getText().strip()\n",
    "                if(txt):\n",
    "                    f.write(\"post: {}\\n\".format(txt.strip()))\n",
    "\n",
    "                f.write('comments: ')\n",
    "                comments = html.findAll('dd', {'class': 'usertxt'})\n",
    "                for comment in comments:\n",
    "                    txt = comment.find('span').getText()\n",
    "                    if(txt):\n",
    "                        f.write(\"{}, \".format(txt.strip()))\n",
    "    f.close()"
   ]
  },
  {
   "cell_type": "code",
   "execution_count": null,
   "metadata": {},
   "outputs": [],
   "source": [
    "crawl_dcinside('leagueoflegends3')"
   ]
  },
  {
   "cell_type": "code",
   "execution_count": null,
   "metadata": {},
   "outputs": [],
   "source": [
    "crawl_dcinside('iu_new')"
   ]
  },
  {
   "cell_type": "code",
   "execution_count": null,
   "metadata": {},
   "outputs": [],
   "source": [
    "crawl_nate()"
   ]
  },
  {
   "cell_type": "code",
   "execution_count": null,
   "metadata": {},
   "outputs": [],
   "source": []
  }
 ],
 "metadata": {
  "kernelspec": {
   "display_name": "Python 3",
   "language": "python",
   "name": "python3"
  },
  "language_info": {
   "codemirror_mode": {
    "name": "ipython",
    "version": 3
   },
   "file_extension": ".py",
   "mimetype": "text/x-python",
   "name": "python",
   "nbconvert_exporter": "python",
   "pygments_lexer": "ipython3",
   "version": "3.7.4"
  },
  "toc": {
   "base_numbering": 1,
   "nav_menu": {},
   "number_sections": true,
   "sideBar": true,
   "skip_h1_title": false,
   "title_cell": "Table of Contents",
   "title_sidebar": "Contents",
   "toc_cell": false,
   "toc_position": {},
   "toc_section_display": true,
   "toc_window_display": false
  }
 },
 "nbformat": 4,
 "nbformat_minor": 2
}
