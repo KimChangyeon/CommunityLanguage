{
 "cells": [
  {
   "cell_type": "code",
   "execution_count": 54,
   "metadata": {},
   "outputs": [],
   "source": [
    "import pickle\n",
    "from numpy import arange\n",
    "from math import floor\n",
    "from collections import defaultdict"
   ]
  },
  {
   "cell_type": "code",
   "execution_count": 35,
   "metadata": {},
   "outputs": [],
   "source": [
    "scores = {}\n",
    "for filename in ['dc_lol', 'dc_iu', 'nate_teen', 'naver_comments']:\n",
    "    with open('{}_scores.pkl'.format(filename), 'rb') as f:\n",
    "        scores.update(pickle.load(f))"
   ]
  },
  {
   "cell_type": "code",
   "execution_count": 57,
   "metadata": {},
   "outputs": [],
   "source": [
    "grade = defaultdict(list)\n",
    "for s in scores:\n",
    "    n = scores[s]\n",
    "    for i in arange(-3, 3, 0.5):\n",
    "        if(n>=i):\n",
    "            a = i\n",
    "    grade[a].append(s)"
   ]
  },
  {
   "cell_type": "code",
   "execution_count": 59,
   "metadata": {},
   "outputs": [],
   "source": [
    "with open('total_grade.txt', 'w', encoding = 'utf-8') as f:\n",
    "    for s in sorted(grade.keys()):\n",
    "        f.write(str(s)+\" : \\n\")\n",
    "        for g in grade[s]:\n",
    "            f.write(g+',')\n",
    "        f.write('\\n')"
   ]
  }
 ],
 "metadata": {
  "kernelspec": {
   "display_name": "Python 3",
   "language": "python",
   "name": "python3"
  },
  "language_info": {
   "codemirror_mode": {
    "name": "ipython",
    "version": 3
   },
   "file_extension": ".py",
   "mimetype": "text/x-python",
   "name": "python",
   "nbconvert_exporter": "python",
   "pygments_lexer": "ipython3",
   "version": "3.7.6"
  }
 },
 "nbformat": 4,
 "nbformat_minor": 4
}
