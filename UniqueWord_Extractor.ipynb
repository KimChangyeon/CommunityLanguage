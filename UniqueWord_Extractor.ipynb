{
 "cells": [
  {
   "cell_type": "code",
   "execution_count": 21,
   "metadata": {},
   "outputs": [],
   "source": [
    "import pickle\n",
    "import nltk"
   ]
  },
  {
   "cell_type": "code",
   "execution_count": 22,
   "metadata": {},
   "outputs": [],
   "source": [
    "with open('dc_LOL_newWord.pkl', 'rb') as f:\n",
    "    words_dclol = pickle.load(f)\n",
    "with open('dc_IU_newWord.pkl', 'rb') as f:\n",
    "    words_dcwinner = pickle.load(f)"
   ]
  },
  {
   "cell_type": "code",
   "execution_count": 24,
   "metadata": {},
   "outputs": [],
   "source": [
    "freqdist_lol = nltk.FreqDist(words_dclol)\n",
    "freqdist_winner = nltk.FreqDist(words_dcwinner)\n",
    "freqdists = [freqdist_lol, freqdist_winner]"
   ]
  },
  {
   "cell_type": "code",
   "execution_count": 25,
   "metadata": {},
   "outputs": [],
   "source": [
    "def unique_word_extractor(freqdist, freqdists):\n",
    "    unique_words = {}\n",
    "    for word in freqdist:\n",
    "        freq_in_given_comm = freqdist[word]\n",
    "        freq_in_all_comm = sum(freq[word] for freq in freqdists)\n",
    "        uniqueness = freq_in_given_comm / freq_in_all_comm\n",
    "        unique_words[word] = uniqueness\n",
    "    sorted_unique_words = [word for word, unique in sorted(unique_words.items(), key=lambda x: x[1], reverse=True)]\n",
    "    return sorted_unique_words[:50]"
   ]
  },
  {
   "cell_type": "code",
   "execution_count": 26,
   "metadata": {},
   "outputs": [
    {
     "data": {
      "text/plain": [
       "['대깨맥들',\n",
       " '좆병신',\n",
       " '새끼들',\n",
       " '개좆즙',\n",
       " '갈드컵',\n",
       " '좆같',\n",
       " '씹덕',\n",
       " '유칼',\n",
       " '느그',\n",
       " '없음',\n",
       " '그리핀',\n",
       " '소드',\n",
       " '맞는데',\n",
       " '미드',\n",
       " '이겼',\n",
       " '개좆',\n",
       " '일베',\n",
       " '소드가',\n",
       " '같은데',\n",
       " '한타',\n",
       " '리고',\n",
       " '었음',\n",
       " '스크림',\n",
       " '미쳤',\n",
       " '롤갤',\n",
       " '인방충',\n",
       " '했음',\n",
       " '먹었',\n",
       " '가지고',\n",
       " '살아',\n",
       " '했다고',\n",
       " '념글',\n",
       " '카이사',\n",
       " '먹고',\n",
       " '봐도',\n",
       " '소드는',\n",
       " 'drx',\n",
       " '겠네',\n",
       " '하냐',\n",
       " '찐따',\n",
       " '맞지',\n",
       " '아니냐',\n",
       " '쵸비',\n",
       " '보니까',\n",
       " '바이퍼',\n",
       " '하더라',\n",
       " '저거',\n",
       " '한다고',\n",
       " '였는데',\n",
       " '씨발']"
      ]
     },
     "execution_count": 26,
     "metadata": {},
     "output_type": "execute_result"
    }
   ],
   "source": [
    "unique_word_extractor(freqdist_lol, freqdists)"
   ]
  },
  {
   "cell_type": "code",
   "execution_count": 27,
   "metadata": {},
   "outputs": [
    {
     "data": {
      "text/plain": [
       "['떠내려',\n",
       " 'll',\n",
       " '원하는',\n",
       " '분들',\n",
       " '위에',\n",
       " '움짤',\n",
       " '인스타그램',\n",
       " '봄사벚',\n",
       " '갤주님',\n",
       " '퇴근하고',\n",
       " '갤주',\n",
       " '아이유',\n",
       " '집콕시그널',\n",
       " 'gdw',\n",
       " '올라왔',\n",
       " '애나',\n",
       " '동참합니다',\n",
       " '아이유님',\n",
       " '나만',\n",
       " '인증합니다',\n",
       " '글이라',\n",
       " '뮤비',\n",
       " '찍어',\n",
       " '빠짐',\n",
       " '려볼',\n",
       " '네이버',\n",
       " '구글',\n",
       " '필독하고',\n",
       " '정신차려라',\n",
       " '양심불',\n",
       " '지말',\n",
       " '어나',\n",
       " '적극홍보합시다',\n",
       " '좋은일',\n",
       " '징짱이',\n",
       " '체고시다',\n",
       " '최고시다',\n",
       " '지않',\n",
       " '보플',\n",
       " '미쳣다',\n",
       " '티저',\n",
       " '유튜브',\n",
       " '트렌',\n",
       " '봐줘',\n",
       " '센세',\n",
       " '징짱',\n",
       " '지순례중',\n",
       " '팬아트',\n",
       " '졸귀다',\n",
       " '업뎃']"
      ]
     },
     "execution_count": 27,
     "metadata": {},
     "output_type": "execute_result"
    }
   ],
   "source": [
    "unique_word_extractor(freqdist_winner, freqdists)"
   ]
  }
 ],
 "metadata": {
  "kernelspec": {
   "display_name": "Python 3",
   "language": "python",
   "name": "python3"
  },
  "language_info": {
   "codemirror_mode": {
    "name": "ipython",
    "version": 3
   },
   "file_extension": ".py",
   "mimetype": "text/x-python",
   "name": "python",
   "nbconvert_exporter": "python",
   "pygments_lexer": "ipython3",
   "version": "3.7.4"
  }
 },
 "nbformat": 4,
 "nbformat_minor": 2
}
